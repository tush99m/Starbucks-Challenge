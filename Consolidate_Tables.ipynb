{
 "cells": [
  {
   "cell_type": "code",
   "execution_count": 1,
   "metadata": {},
   "outputs": [],
   "source": [
    "import pandas as pd"
   ]
  },
  {
   "cell_type": "code",
   "execution_count": 108,
   "metadata": {},
   "outputs": [],
   "source": [
    "portfolio = pd.read_csv('portfolio_new.csv')\n",
    "portfolio.drop(columns = ['Unnamed: 0'],inplace=True)"
   ]
  },
  {
   "cell_type": "code",
   "execution_count": 109,
   "metadata": {},
   "outputs": [],
   "source": [
    "profile = pd.read_csv('profile_new.csv')\n",
    "profile.drop(columns = ['Unnamed: 0'],inplace=True)"
   ]
  },
  {
   "cell_type": "code",
   "execution_count": 110,
   "metadata": {},
   "outputs": [],
   "source": [
    "transaction = pd.read_csv('transcript_clean.csv')\n",
    "transaction.drop(columns = ['Unnamed: 0'],inplace=True)"
   ]
  },
  {
   "cell_type": "code",
   "execution_count": 111,
   "metadata": {},
   "outputs": [
    {
     "data": {
      "text/html": [
       "<div>\n",
       "<style scoped>\n",
       "    .dataframe tbody tr th:only-of-type {\n",
       "        vertical-align: middle;\n",
       "    }\n",
       "\n",
       "    .dataframe tbody tr th {\n",
       "        vertical-align: top;\n",
       "    }\n",
       "\n",
       "    .dataframe thead th {\n",
       "        text-align: right;\n",
       "    }\n",
       "</style>\n",
       "<table border=\"1\" class=\"dataframe\">\n",
       "  <thead>\n",
       "    <tr style=\"text-align: right;\">\n",
       "      <th></th>\n",
       "      <th>person</th>\n",
       "      <th>offer_id</th>\n",
       "      <th>offer_received_time</th>\n",
       "      <th>offer_viewed_time</th>\n",
       "      <th>offer_completed_time</th>\n",
       "      <th>transaction_time</th>\n",
       "      <th>offer_received</th>\n",
       "      <th>offer_viewed</th>\n",
       "      <th>offer_completed</th>\n",
       "      <th>transaction</th>\n",
       "      <th>reward</th>\n",
       "      <th>amount</th>\n",
       "      <th>influenced</th>\n",
       "    </tr>\n",
       "  </thead>\n",
       "  <tbody>\n",
       "    <tr>\n",
       "      <th>0</th>\n",
       "      <td>0009655768c64bdeb2e877511632db8f</td>\n",
       "      <td>5a8bc65990b245e5a138643cd4eb9837</td>\n",
       "      <td>168</td>\n",
       "      <td>192</td>\n",
       "      <td>0</td>\n",
       "      <td>0</td>\n",
       "      <td>1</td>\n",
       "      <td>1</td>\n",
       "      <td>0</td>\n",
       "      <td>0</td>\n",
       "      <td>0</td>\n",
       "      <td>0.00</td>\n",
       "      <td>0</td>\n",
       "    </tr>\n",
       "    <tr>\n",
       "      <th>1</th>\n",
       "      <td>0009655768c64bdeb2e877511632db8f</td>\n",
       "      <td>NaN</td>\n",
       "      <td>0</td>\n",
       "      <td>0</td>\n",
       "      <td>0</td>\n",
       "      <td>228</td>\n",
       "      <td>0</td>\n",
       "      <td>0</td>\n",
       "      <td>0</td>\n",
       "      <td>1</td>\n",
       "      <td>0</td>\n",
       "      <td>22.16</td>\n",
       "      <td>0</td>\n",
       "    </tr>\n",
       "    <tr>\n",
       "      <th>2</th>\n",
       "      <td>0009655768c64bdeb2e877511632db8f</td>\n",
       "      <td>3f207df678b143eea3cee63160fa8bed</td>\n",
       "      <td>336</td>\n",
       "      <td>372</td>\n",
       "      <td>0</td>\n",
       "      <td>0</td>\n",
       "      <td>1</td>\n",
       "      <td>1</td>\n",
       "      <td>0</td>\n",
       "      <td>0</td>\n",
       "      <td>0</td>\n",
       "      <td>0.00</td>\n",
       "      <td>0</td>\n",
       "    </tr>\n",
       "    <tr>\n",
       "      <th>3</th>\n",
       "      <td>0009655768c64bdeb2e877511632db8f</td>\n",
       "      <td>f19421c1d4aa40978ebb69ca19b0e20d</td>\n",
       "      <td>408</td>\n",
       "      <td>456</td>\n",
       "      <td>414</td>\n",
       "      <td>414</td>\n",
       "      <td>1</td>\n",
       "      <td>1</td>\n",
       "      <td>1</td>\n",
       "      <td>0</td>\n",
       "      <td>0</td>\n",
       "      <td>8.57</td>\n",
       "      <td>0</td>\n",
       "    </tr>\n",
       "    <tr>\n",
       "      <th>4</th>\n",
       "      <td>0009655768c64bdeb2e877511632db8f</td>\n",
       "      <td>fafdcd668e3743c1bb461111dcafc2a4</td>\n",
       "      <td>504</td>\n",
       "      <td>540</td>\n",
       "      <td>528</td>\n",
       "      <td>528</td>\n",
       "      <td>1</td>\n",
       "      <td>1</td>\n",
       "      <td>1</td>\n",
       "      <td>0</td>\n",
       "      <td>0</td>\n",
       "      <td>14.11</td>\n",
       "      <td>0</td>\n",
       "    </tr>\n",
       "  </tbody>\n",
       "</table>\n",
       "</div>"
      ],
      "text/plain": [
       "                             person                          offer_id  \\\n",
       "0  0009655768c64bdeb2e877511632db8f  5a8bc65990b245e5a138643cd4eb9837   \n",
       "1  0009655768c64bdeb2e877511632db8f                               NaN   \n",
       "2  0009655768c64bdeb2e877511632db8f  3f207df678b143eea3cee63160fa8bed   \n",
       "3  0009655768c64bdeb2e877511632db8f  f19421c1d4aa40978ebb69ca19b0e20d   \n",
       "4  0009655768c64bdeb2e877511632db8f  fafdcd668e3743c1bb461111dcafc2a4   \n",
       "\n",
       "   offer_received_time  offer_viewed_time  offer_completed_time  \\\n",
       "0                  168                192                     0   \n",
       "1                    0                  0                     0   \n",
       "2                  336                372                     0   \n",
       "3                  408                456                   414   \n",
       "4                  504                540                   528   \n",
       "\n",
       "   transaction_time  offer_received  offer_viewed  offer_completed  \\\n",
       "0                 0               1             1                0   \n",
       "1               228               0             0                0   \n",
       "2                 0               1             1                0   \n",
       "3               414               1             1                1   \n",
       "4               528               1             1                1   \n",
       "\n",
       "   transaction  reward  amount  influenced  \n",
       "0            0       0    0.00           0  \n",
       "1            1       0   22.16           0  \n",
       "2            0       0    0.00           0  \n",
       "3            0       0    8.57           0  \n",
       "4            0       0   14.11           0  "
      ]
     },
     "execution_count": 111,
     "metadata": {},
     "output_type": "execute_result"
    }
   ],
   "source": [
    "transaction.head()"
   ]
  },
  {
   "cell_type": "code",
   "execution_count": 112,
   "metadata": {},
   "outputs": [],
   "source": [
    "transaction = transaction.groupby(['person', 'offer_id'], as_index=False).sum()"
   ]
  },
  {
   "cell_type": "code",
   "execution_count": 113,
   "metadata": {},
   "outputs": [],
   "source": [
    "transaction.influenced.replace(to_replace=2, value=1, inplace=True)\n",
    "transaction.influenced.replace(to_replace=3, value=1, inplace=True)"
   ]
  },
  {
   "cell_type": "code",
   "execution_count": 115,
   "metadata": {},
   "outputs": [],
   "source": [
    "transaction.drop(columns=['offer_received_time', 'offer_viewed_time', 'offer_completed_time',\n",
    "                              'transaction_time'],\n",
    "                     inplace=True)"
   ]
  },
  {
   "cell_type": "code",
   "execution_count": 118,
   "metadata": {},
   "outputs": [
    {
     "name": "stdout",
     "output_type": "stream",
     "text": [
      "Index(['offer_code', 'difficulty', 'duration', 'id', 'reward',\n",
      "       'offer_type_bogo', 'offer_type_discount', 'offer_type_informational',\n",
      "       'email', 'web', 'social', 'mobile'],\n",
      "      dtype='object')\n",
      "Index(['age', 'id', 'income', 'gender_F', 'gender_M', 'gender_O',\n",
      "       'became_member_on_year', 'became_member_on_month',\n",
      "       'became_member_on_date'],\n",
      "      dtype='object')\n",
      "Index(['person', 'offer_id', 'offer_received', 'offer_viewed',\n",
      "       'offer_completed', 'transaction', 'reward', 'amount', 'influenced'],\n",
      "      dtype='object')\n"
     ]
    }
   ],
   "source": [
    "print(portfolio.columns)\n",
    "print(profile.columns)\n",
    "print(transaction.columns)"
   ]
  },
  {
   "cell_type": "code",
   "execution_count": 119,
   "metadata": {},
   "outputs": [
    {
     "data": {
      "text/plain": [
       "array(['0610b486422d4921ae7d2bf64640c50b',\n",
       "       '78afa995795e4d85b5d9ceeca43f5fef',\n",
       "       'e2127556f4f64592b11af22de27a7932', ...,\n",
       "       '01d26f638c274aa0b965d24cefe3183f',\n",
       "       '9dc1421481194dcd9400aec7c9ae6366',\n",
       "       'e4052622e5ba45a8b96b59aba68cf068'], dtype=object)"
      ]
     },
     "execution_count": 119,
     "metadata": {},
     "output_type": "execute_result"
    }
   ],
   "source": [
    "profile['id'].unique()"
   ]
  },
  {
   "cell_type": "code",
   "execution_count": 117,
   "metadata": {},
   "outputs": [
    {
     "data": {
      "text/plain": [
       "array(['0009655768c64bdeb2e877511632db8f',\n",
       "       '00116118485d4dfda04fdbaba9a87b5c',\n",
       "       '0011e0d4e6b944f998e987f904e8c1e5', ...,\n",
       "       'fff8957ea8b240a6b5e634b6ee8eafcf',\n",
       "       'fffad4f4828548d1b5583907f2e9906b',\n",
       "       'ffff82501cea40309d5fdd7edcca4a07'], dtype=object)"
      ]
     },
     "execution_count": 117,
     "metadata": {},
     "output_type": "execute_result"
    }
   ],
   "source": [
    "transaction['person'].unique()"
   ]
  },
  {
   "cell_type": "code",
   "execution_count": 121,
   "metadata": {},
   "outputs": [],
   "source": [
    "transaction = transaction.merge(profile, left_on='person', right_on='id')"
   ]
  },
  {
   "cell_type": "code",
   "execution_count": 122,
   "metadata": {},
   "outputs": [],
   "source": [
    "transaction.drop(columns=['person', 'id'], inplace=True)"
   ]
  },
  {
   "cell_type": "code",
   "execution_count": 123,
   "metadata": {},
   "outputs": [],
   "source": [
    "transaction = transaction.merge(portfolio, left_on=['offer_id'], right_on=['id'], how='left')"
   ]
  },
  {
   "cell_type": "code",
   "execution_count": 124,
   "metadata": {},
   "outputs": [],
   "source": [
    "transaction.drop(columns=['offer_received', 'offer_viewed', 'offer_completed', 'transaction', 'offer_id', 'id','reward_y'],\n",
    "               inplace=True)"
   ]
  },
  {
   "cell_type": "code",
   "execution_count": 125,
   "metadata": {},
   "outputs": [
    {
     "data": {
      "text/html": [
       "<div>\n",
       "<style scoped>\n",
       "    .dataframe tbody tr th:only-of-type {\n",
       "        vertical-align: middle;\n",
       "    }\n",
       "\n",
       "    .dataframe tbody tr th {\n",
       "        vertical-align: top;\n",
       "    }\n",
       "\n",
       "    .dataframe thead th {\n",
       "        text-align: right;\n",
       "    }\n",
       "</style>\n",
       "<table border=\"1\" class=\"dataframe\">\n",
       "  <thead>\n",
       "    <tr style=\"text-align: right;\">\n",
       "      <th></th>\n",
       "      <th>reward_x</th>\n",
       "      <th>amount</th>\n",
       "      <th>influenced</th>\n",
       "      <th>age</th>\n",
       "      <th>income</th>\n",
       "      <th>gender_F</th>\n",
       "      <th>gender_M</th>\n",
       "      <th>gender_O</th>\n",
       "      <th>became_member_on_year</th>\n",
       "      <th>became_member_on_month</th>\n",
       "      <th>...</th>\n",
       "      <th>offer_code</th>\n",
       "      <th>difficulty</th>\n",
       "      <th>duration</th>\n",
       "      <th>offer_type_bogo</th>\n",
       "      <th>offer_type_discount</th>\n",
       "      <th>offer_type_informational</th>\n",
       "      <th>email</th>\n",
       "      <th>web</th>\n",
       "      <th>social</th>\n",
       "      <th>mobile</th>\n",
       "    </tr>\n",
       "  </thead>\n",
       "  <tbody>\n",
       "    <tr>\n",
       "      <th>0</th>\n",
       "      <td>2</td>\n",
       "      <td>10.27</td>\n",
       "      <td>0</td>\n",
       "      <td>33</td>\n",
       "      <td>72000.0</td>\n",
       "      <td>0</td>\n",
       "      <td>1</td>\n",
       "      <td>0</td>\n",
       "      <td>2017</td>\n",
       "      <td>4</td>\n",
       "      <td>...</td>\n",
       "      <td>10</td>\n",
       "      <td>10</td>\n",
       "      <td>7</td>\n",
       "      <td>0</td>\n",
       "      <td>1</td>\n",
       "      <td>0</td>\n",
       "      <td>1</td>\n",
       "      <td>1</td>\n",
       "      <td>0</td>\n",
       "      <td>1</td>\n",
       "    </tr>\n",
       "    <tr>\n",
       "      <th>1</th>\n",
       "      <td>0</td>\n",
       "      <td>0.00</td>\n",
       "      <td>0</td>\n",
       "      <td>33</td>\n",
       "      <td>72000.0</td>\n",
       "      <td>0</td>\n",
       "      <td>1</td>\n",
       "      <td>0</td>\n",
       "      <td>2017</td>\n",
       "      <td>4</td>\n",
       "      <td>...</td>\n",
       "      <td>3</td>\n",
       "      <td>0</td>\n",
       "      <td>4</td>\n",
       "      <td>0</td>\n",
       "      <td>0</td>\n",
       "      <td>1</td>\n",
       "      <td>1</td>\n",
       "      <td>1</td>\n",
       "      <td>0</td>\n",
       "      <td>1</td>\n",
       "    </tr>\n",
       "    <tr>\n",
       "      <th>2</th>\n",
       "      <td>0</td>\n",
       "      <td>0.00</td>\n",
       "      <td>0</td>\n",
       "      <td>33</td>\n",
       "      <td>72000.0</td>\n",
       "      <td>0</td>\n",
       "      <td>1</td>\n",
       "      <td>0</td>\n",
       "      <td>2017</td>\n",
       "      <td>4</td>\n",
       "      <td>...</td>\n",
       "      <td>8</td>\n",
       "      <td>0</td>\n",
       "      <td>3</td>\n",
       "      <td>0</td>\n",
       "      <td>0</td>\n",
       "      <td>1</td>\n",
       "      <td>1</td>\n",
       "      <td>0</td>\n",
       "      <td>1</td>\n",
       "      <td>1</td>\n",
       "    </tr>\n",
       "    <tr>\n",
       "      <th>3</th>\n",
       "      <td>0</td>\n",
       "      <td>8.57</td>\n",
       "      <td>0</td>\n",
       "      <td>33</td>\n",
       "      <td>72000.0</td>\n",
       "      <td>0</td>\n",
       "      <td>1</td>\n",
       "      <td>0</td>\n",
       "      <td>2017</td>\n",
       "      <td>4</td>\n",
       "      <td>...</td>\n",
       "      <td>9</td>\n",
       "      <td>5</td>\n",
       "      <td>5</td>\n",
       "      <td>1</td>\n",
       "      <td>0</td>\n",
       "      <td>0</td>\n",
       "      <td>1</td>\n",
       "      <td>1</td>\n",
       "      <td>1</td>\n",
       "      <td>1</td>\n",
       "    </tr>\n",
       "    <tr>\n",
       "      <th>4</th>\n",
       "      <td>0</td>\n",
       "      <td>14.11</td>\n",
       "      <td>0</td>\n",
       "      <td>33</td>\n",
       "      <td>72000.0</td>\n",
       "      <td>0</td>\n",
       "      <td>1</td>\n",
       "      <td>0</td>\n",
       "      <td>2017</td>\n",
       "      <td>4</td>\n",
       "      <td>...</td>\n",
       "      <td>7</td>\n",
       "      <td>10</td>\n",
       "      <td>10</td>\n",
       "      <td>0</td>\n",
       "      <td>1</td>\n",
       "      <td>0</td>\n",
       "      <td>1</td>\n",
       "      <td>1</td>\n",
       "      <td>1</td>\n",
       "      <td>1</td>\n",
       "    </tr>\n",
       "  </tbody>\n",
       "</table>\n",
       "<p>5 rows × 21 columns</p>\n",
       "</div>"
      ],
      "text/plain": [
       "   reward_x  amount  influenced  age   income  gender_F  gender_M  gender_O  \\\n",
       "0         2   10.27           0   33  72000.0         0         1         0   \n",
       "1         0    0.00           0   33  72000.0         0         1         0   \n",
       "2         0    0.00           0   33  72000.0         0         1         0   \n",
       "3         0    8.57           0   33  72000.0         0         1         0   \n",
       "4         0   14.11           0   33  72000.0         0         1         0   \n",
       "\n",
       "   became_member_on_year  became_member_on_month  ...  offer_code  difficulty  \\\n",
       "0                   2017                       4  ...          10          10   \n",
       "1                   2017                       4  ...           3           0   \n",
       "2                   2017                       4  ...           8           0   \n",
       "3                   2017                       4  ...           9           5   \n",
       "4                   2017                       4  ...           7          10   \n",
       "\n",
       "   duration  offer_type_bogo  offer_type_discount  offer_type_informational  \\\n",
       "0         7                0                    1                         0   \n",
       "1         4                0                    0                         1   \n",
       "2         3                0                    0                         1   \n",
       "3         5                1                    0                         0   \n",
       "4        10                0                    1                         0   \n",
       "\n",
       "   email  web  social  mobile  \n",
       "0      1    1       0       1  \n",
       "1      1    1       0       1  \n",
       "2      1    0       1       1  \n",
       "3      1    1       1       1  \n",
       "4      1    1       1       1  \n",
       "\n",
       "[5 rows x 21 columns]"
      ]
     },
     "execution_count": 125,
     "metadata": {},
     "output_type": "execute_result"
    }
   ],
   "source": [
    "transaction.head()"
   ]
  },
  {
   "cell_type": "code",
   "execution_count": 126,
   "metadata": {},
   "outputs": [],
   "source": [
    "transaction.fillna(0, inplace=True)"
   ]
  },
  {
   "cell_type": "code",
   "execution_count": 128,
   "metadata": {},
   "outputs": [
    {
     "data": {
      "text/plain": [
       "['reward_x',\n",
       " 'amount',\n",
       " 'influenced',\n",
       " 'age',\n",
       " 'income',\n",
       " 'gender_F',\n",
       " 'gender_M',\n",
       " 'gender_O',\n",
       " 'became_member_on_year',\n",
       " 'became_member_on_month',\n",
       " 'became_member_on_date',\n",
       " 'offer_code',\n",
       " 'difficulty',\n",
       " 'duration',\n",
       " 'offer_type_bogo',\n",
       " 'offer_type_discount',\n",
       " 'offer_type_informational',\n",
       " 'email',\n",
       " 'web',\n",
       " 'social',\n",
       " 'mobile']"
      ]
     },
     "execution_count": 128,
     "metadata": {},
     "output_type": "execute_result"
    }
   ],
   "source": [
    "transaction.columns.to_list()"
   ]
  },
  {
   "cell_type": "code",
   "execution_count": 129,
   "metadata": {},
   "outputs": [],
   "source": [
    "transaction[['difficulty', 'duration', 'bogo', 'discount', 'informational', 'email', 'mobile', 'social', 'web',\n",
    "                 'offer_code']] = transaction[\n",
    "        ['difficulty', 'duration', 'offer_type_bogo', 'offer_type_discount', 'offer_type_informational', 'email', 'mobile', 'social', 'web',\n",
    "         'offer_code']].astype(int)"
   ]
  },
  {
   "cell_type": "code",
   "execution_count": 130,
   "metadata": {},
   "outputs": [],
   "source": [
    "transaction.rename(columns={'reward_x': 'reward'}, inplace=True)"
   ]
  },
  {
   "cell_type": "code",
   "execution_count": 138,
   "metadata": {},
   "outputs": [
    {
     "data": {
      "text/plain": [
       "['reward',\n",
       " 'amount',\n",
       " 'influenced',\n",
       " 'age',\n",
       " 'income',\n",
       " 'gender_F',\n",
       " 'gender_M',\n",
       " 'gender_O',\n",
       " 'became_member_on_year',\n",
       " 'became_member_on_month',\n",
       " 'became_member_on_date',\n",
       " 'difficulty',\n",
       " 'duration',\n",
       " 'offer_type_bogo',\n",
       " 'offer_type_discount',\n",
       " 'offer_type_informational',\n",
       " 'email',\n",
       " 'web',\n",
       " 'social',\n",
       " 'mobile',\n",
       " 'bogo',\n",
       " 'discount',\n",
       " 'informational',\n",
       " 'offer_code_1',\n",
       " 'offer_code_2',\n",
       " 'offer_code_3',\n",
       " 'offer_code_4',\n",
       " 'offer_code_5',\n",
       " 'offer_code_6',\n",
       " 'offer_code_7',\n",
       " 'offer_code_8',\n",
       " 'offer_code_9',\n",
       " 'offer_code_10']"
      ]
     },
     "execution_count": 138,
     "metadata": {},
     "output_type": "execute_result"
    }
   ],
   "source": [
    "transaction.columns.to_list()"
   ]
  },
  {
   "cell_type": "code",
   "execution_count": 135,
   "metadata": {},
   "outputs": [
    {
     "data": {
      "text/plain": [
       "array([10,  3,  8,  9,  7,  5,  6,  4,  2,  1])"
      ]
     },
     "execution_count": 135,
     "metadata": {},
     "output_type": "execute_result"
    }
   ],
   "source": [
    "transaction['offer_code'].unique()"
   ]
  },
  {
   "cell_type": "code",
   "execution_count": 136,
   "metadata": {},
   "outputs": [],
   "source": [
    "transaction = pd.get_dummies(transaction, columns=['offer_code'])"
   ]
  },
  {
   "cell_type": "code",
   "execution_count": 139,
   "metadata": {},
   "outputs": [],
   "source": [
    "transaction = transaction[['age', 'income', 'gender_F', 'gender_M', 'gender_O', 'became_member_on_year',\n",
    "                               'became_member_on_month', 'became_member_on_date', 'difficulty', 'duration',\n",
    "                               'bogo', 'discount', 'informational', 'email', 'mobile', 'social', 'web', 'reward',\n",
    "                               'amount', 'influenced', 'offer_code_1', 'offer_code_2', 'offer_code_3',\n",
    "                               'offer_code_4', 'offer_code_5', 'offer_code_6', 'offer_code_7', 'offer_code_8',\n",
    "                               'offer_code_9', 'offer_code_10']]"
   ]
  },
  {
   "cell_type": "code",
   "execution_count": 140,
   "metadata": {},
   "outputs": [],
   "source": [
    "transaction.to_csv('transaction_final1.csv')"
   ]
  },
  {
   "cell_type": "code",
   "execution_count": null,
   "metadata": {},
   "outputs": [],
   "source": []
  }
 ],
 "metadata": {
  "kernelspec": {
   "display_name": "Python 3",
   "language": "python",
   "name": "python3"
  },
  "language_info": {
   "codemirror_mode": {
    "name": "ipython",
    "version": 3
   },
   "file_extension": ".py",
   "mimetype": "text/x-python",
   "name": "python",
   "nbconvert_exporter": "python",
   "pygments_lexer": "ipython3",
   "version": "3.7.3"
  }
 },
 "nbformat": 4,
 "nbformat_minor": 2
}
